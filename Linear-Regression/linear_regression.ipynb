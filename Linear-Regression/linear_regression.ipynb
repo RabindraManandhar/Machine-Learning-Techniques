{
 "cells": [
  {
   "cell_type": "markdown",
   "id": "7df09edc",
   "metadata": {},
   "source": [
    "# Assignment: Wines, Team 1\n",
    "Learning goals\n",
    "In this assignment, you:\n",
    "1. learn to conduct linear regression analysis.\n",
    "2. improve your data manipulation skills in Python.\n",
    "\n",
    "## Assignment\n",
    "In this assignment, you analyse numerical data on wine properties.\n",
    "\n",
    "The data sets are available in the Documents/Methods/Data/Wine folder in the course’s Oma workspace. Alternatively, the data sets can be downloaded from UCI repository at http://archive.ics.uci.edu/ml/datasets/Wine+Quality.\n",
    "\n",
    "First, choose either red or white wines as the target of the study.\n",
    "\n",
    "Then choose a trait from two options: 1) wine quality or 2) wine alcohol content.\n",
    "\n",
    "Now, your task is to build a regression model that predict the values of your chosen response variable as well as possible.\n",
    "\n",
    "You should provide evidence-based answers to the following questions:\n",
    "\n",
    "1. What is the regression equation for estimating your chosen trait values?\n",
    "2. What are the five most useful variables for estimating the trait values?\n",
    "3. Provide a validation-based error estimate for your model. As the data set is large, use\n",
    "split validation that divides the data set into separate training and testing sets.\n"
   ]
  },
  {
   "cell_type": "markdown",
   "id": "91ceec2b",
   "metadata": {},
   "source": [
    "### Libraries and Data\n",
    "\n",
    "#### Explanations from winequality.names, we will be targeting wine quality for our regression model.\n",
    "\n",
    "7. Attribute information:\n",
    "\n",
    "   For more information, read [Cortez et al., 2009].\n",
    "\n",
    "   Input variables (based on physicochemical tests):\n",
    "   \n",
    "   1 - fixed acidity\n",
    "   \n",
    "   2 - volatile acidity\n",
    "   \n",
    "   3 - citric acid\n",
    "   \n",
    "   4 - residual sugar\n",
    "   \n",
    "   5 - chlorides\n",
    "   \n",
    "   6 - free sulfur dioxide\n",
    "   \n",
    "   7 - total sulfur dioxide\n",
    "   \n",
    "   8 - density\n",
    "   \n",
    "   9 - pH\n",
    "   \n",
    "   10 - sulphates\n",
    "   \n",
    "   11 - alcohol Output variable (based on sensory data): \n",
    "   \n",
    "   12 - quality (score between 0 and 10)"
   ]
  },
  {
   "cell_type": "code",
   "execution_count": 1,
   "id": "a8dccf4d",
   "metadata": {},
   "outputs": [
    {
     "name": "stdout",
     "output_type": "stream",
     "text": [
      "Intel MKL WARNING: Support of Intel(R) Streaming SIMD Extensions 4.2 (Intel(R) SSE4.2) enabled only processors has been deprecated. Intel oneAPI Math Kernel Library 2025.0 will require Intel(R) Advanced Vector Extensions (Intel(R) AVX) instructions.\n",
      "Intel MKL WARNING: Support of Intel(R) Streaming SIMD Extensions 4.2 (Intel(R) SSE4.2) enabled only processors has been deprecated. Intel oneAPI Math Kernel Library 2025.0 will require Intel(R) Advanced Vector Extensions (Intel(R) AVX) instructions.\n"
     ]
    }
   ],
   "source": [
    "import pandas as pd\n",
    "from sklearn.model_selection import train_test_split\n",
    "from sklearn.linear_model import LinearRegression\n",
    "from sklearn.metrics import mean_squared_error"
   ]
  },
  {
   "cell_type": "code",
   "execution_count": 2,
   "id": "b51f9d38",
   "metadata": {},
   "outputs": [
    {
     "name": "stdout",
     "output_type": "stream",
     "text": [
      "   fixed acidity  volatile acidity  citric acid  residual sugar  chlorides  \\\n",
      "0            7.4               0.7          0.0             1.9      0.076   \n",
      "\n",
      "   free sulfur dioxide  total sulfur dioxide  density    pH  sulphates  \\\n",
      "0                 11.0                  34.0   0.9978  3.51       0.56   \n",
      "\n",
      "   alcohol  quality  \n",
      "0      9.4        5  \n"
     ]
    }
   ],
   "source": [
    "# fetch data for red wines\n",
    "file = \"winequality-red.csv\"\n",
    "data = pd.read_csv(file, delimiter=';')\n",
    "\n",
    "# have a look at the first wine, column names\n",
    "print(data.head(1))"
   ]
  },
  {
   "cell_type": "markdown",
   "id": "a49d1566",
   "metadata": {},
   "source": [
    "### Building the Model"
   ]
  },
  {
   "cell_type": "code",
   "execution_count": 3,
   "id": "ea3f0e47",
   "metadata": {},
   "outputs": [
    {
     "data": {
      "text/html": [
       "<style>#sk-container-id-1 {color: black;background-color: white;}#sk-container-id-1 pre{padding: 0;}#sk-container-id-1 div.sk-toggleable {background-color: white;}#sk-container-id-1 label.sk-toggleable__label {cursor: pointer;display: block;width: 100%;margin-bottom: 0;padding: 0.3em;box-sizing: border-box;text-align: center;}#sk-container-id-1 label.sk-toggleable__label-arrow:before {content: \"▸\";float: left;margin-right: 0.25em;color: #696969;}#sk-container-id-1 label.sk-toggleable__label-arrow:hover:before {color: black;}#sk-container-id-1 div.sk-estimator:hover label.sk-toggleable__label-arrow:before {color: black;}#sk-container-id-1 div.sk-toggleable__content {max-height: 0;max-width: 0;overflow: hidden;text-align: left;background-color: #f0f8ff;}#sk-container-id-1 div.sk-toggleable__content pre {margin: 0.2em;color: black;border-radius: 0.25em;background-color: #f0f8ff;}#sk-container-id-1 input.sk-toggleable__control:checked~div.sk-toggleable__content {max-height: 200px;max-width: 100%;overflow: auto;}#sk-container-id-1 input.sk-toggleable__control:checked~label.sk-toggleable__label-arrow:before {content: \"▾\";}#sk-container-id-1 div.sk-estimator input.sk-toggleable__control:checked~label.sk-toggleable__label {background-color: #d4ebff;}#sk-container-id-1 div.sk-label input.sk-toggleable__control:checked~label.sk-toggleable__label {background-color: #d4ebff;}#sk-container-id-1 input.sk-hidden--visually {border: 0;clip: rect(1px 1px 1px 1px);clip: rect(1px, 1px, 1px, 1px);height: 1px;margin: -1px;overflow: hidden;padding: 0;position: absolute;width: 1px;}#sk-container-id-1 div.sk-estimator {font-family: monospace;background-color: #f0f8ff;border: 1px dotted black;border-radius: 0.25em;box-sizing: border-box;margin-bottom: 0.5em;}#sk-container-id-1 div.sk-estimator:hover {background-color: #d4ebff;}#sk-container-id-1 div.sk-parallel-item::after {content: \"\";width: 100%;border-bottom: 1px solid gray;flex-grow: 1;}#sk-container-id-1 div.sk-label:hover label.sk-toggleable__label {background-color: #d4ebff;}#sk-container-id-1 div.sk-serial::before {content: \"\";position: absolute;border-left: 1px solid gray;box-sizing: border-box;top: 0;bottom: 0;left: 50%;z-index: 0;}#sk-container-id-1 div.sk-serial {display: flex;flex-direction: column;align-items: center;background-color: white;padding-right: 0.2em;padding-left: 0.2em;position: relative;}#sk-container-id-1 div.sk-item {position: relative;z-index: 1;}#sk-container-id-1 div.sk-parallel {display: flex;align-items: stretch;justify-content: center;background-color: white;position: relative;}#sk-container-id-1 div.sk-item::before, #sk-container-id-1 div.sk-parallel-item::before {content: \"\";position: absolute;border-left: 1px solid gray;box-sizing: border-box;top: 0;bottom: 0;left: 50%;z-index: -1;}#sk-container-id-1 div.sk-parallel-item {display: flex;flex-direction: column;z-index: 1;position: relative;background-color: white;}#sk-container-id-1 div.sk-parallel-item:first-child::after {align-self: flex-end;width: 50%;}#sk-container-id-1 div.sk-parallel-item:last-child::after {align-self: flex-start;width: 50%;}#sk-container-id-1 div.sk-parallel-item:only-child::after {width: 0;}#sk-container-id-1 div.sk-dashed-wrapped {border: 1px dashed gray;margin: 0 0.4em 0.5em 0.4em;box-sizing: border-box;padding-bottom: 0.4em;background-color: white;}#sk-container-id-1 div.sk-label label {font-family: monospace;font-weight: bold;display: inline-block;line-height: 1.2em;}#sk-container-id-1 div.sk-label-container {text-align: center;}#sk-container-id-1 div.sk-container {/* jupyter's `normalize.less` sets `[hidden] { display: none; }` but bootstrap.min.css set `[hidden] { display: none !important; }` so we also need the `!important` here to be able to override the default hidden behavior on the sphinx rendered scikit-learn.org. See: https://github.com/scikit-learn/scikit-learn/issues/21755 */display: inline-block !important;position: relative;}#sk-container-id-1 div.sk-text-repr-fallback {display: none;}</style><div id=\"sk-container-id-1\" class=\"sk-top-container\"><div class=\"sk-text-repr-fallback\"><pre>LinearRegression()</pre><b>In a Jupyter environment, please rerun this cell to show the HTML representation or trust the notebook. <br />On GitHub, the HTML representation is unable to render, please try loading this page with nbviewer.org.</b></div><div class=\"sk-container\" hidden><div class=\"sk-item\"><div class=\"sk-estimator sk-toggleable\"><input class=\"sk-toggleable__control sk-hidden--visually\" id=\"sk-estimator-id-1\" type=\"checkbox\" checked><label for=\"sk-estimator-id-1\" class=\"sk-toggleable__label sk-toggleable__label-arrow\">LinearRegression</label><div class=\"sk-toggleable__content\"><pre>LinearRegression()</pre></div></div></div></div></div>"
      ],
      "text/plain": [
       "LinearRegression()"
      ]
     },
     "execution_count": 3,
     "metadata": {},
     "output_type": "execute_result"
    }
   ],
   "source": [
    "# Separate features and target\n",
    "X = data.drop(columns=['quality'])\n",
    "y = data['quality']\n",
    "\n",
    "# 80% of data for training, rest for testing\n",
    "X_train, X_test, y_train, y_test = train_test_split(X, y, test_size=0.2, random_state=42)\n",
    "\n",
    "# Initialize the linear regression model and train it\n",
    "model = LinearRegression()\n",
    "model.fit(X_train, y_train)"
   ]
  },
  {
   "cell_type": "markdown",
   "id": "ff287ac6",
   "metadata": {},
   "source": [
    "### Regression equation\n",
    "The coefficients indicate the impact of each variable on wine quality. Positive coefficients suggest a positive correlation, while negative coefficients suggest a negative correlation, i.e. whether quality goes up or down when a given variable increases."
   ]
  },
  {
   "cell_type": "code",
   "execution_count": 4,
   "id": "9d1babd3",
   "metadata": {},
   "outputs": [
    {
     "name": "stdout",
     "output_type": "stream",
     "text": [
      "Regression Equation:\n",
      "Quality = 14.36 + 0.02 * fixed acidity + -1.00 * volatile acidity + -0.14 * citric acid + 0.01 * residual sugar + -1.81 * chlorides + 0.01 * free sulfur dioxide + -0.00 * total sulfur dioxide + -10.35 * density + -0.39 * pH + 0.84 * sulphates + 0.28 * alcohol\n"
     ]
    }
   ],
   "source": [
    "# Coefficients of the regression equation\n",
    "coefficients = model.coef_\n",
    "intercept = model.intercept_\n",
    "\n",
    "# The equation itself\n",
    "regression_equation = \"Quality = {:.2f}\".format(intercept)\n",
    "for i in range(len(coefficients)):\n",
    "    regression_equation += \" + {:.2f} * {}\".format(coefficients[i], X.columns[i])\n",
    "\n",
    "print(\"Regression Equation:\")\n",
    "print(regression_equation)"
   ]
  },
  {
   "cell_type": "markdown",
   "id": "bab78a0c",
   "metadata": {},
   "source": [
    "#### Validating the equation with the first 10 wines"
   ]
  },
  {
   "cell_type": "code",
   "execution_count": 5,
   "id": "63815064",
   "metadata": {},
   "outputs": [
    {
     "name": "stdout",
     "output_type": "stream",
     "text": [
      "Wine 1 : Predicted vs Real Quality: 5.05/5.00\n",
      "\n",
      "Wine 2 : Predicted vs Real Quality: 5.15/5.00\n",
      "\n",
      "Wine 3 : Predicted vs Real Quality: 5.21/5.00\n",
      "\n",
      "Wine 4 : Predicted vs Real Quality: 5.68/6.00\n",
      "\n",
      "Wine 5 : Predicted vs Real Quality: 5.05/5.00\n",
      "\n",
      "Wine 6 : Predicted vs Real Quality: 5.08/5.00\n",
      "\n",
      "Wine 7 : Predicted vs Real Quality: 5.11/5.00\n",
      "\n",
      "Wine 8 : Predicted vs Real Quality: 5.36/7.00\n",
      "\n",
      "Wine 9 : Predicted vs Real Quality: 5.33/7.00\n",
      "\n",
      "Wine 10 : Predicted vs Real Quality: 5.60/5.00\n",
      "\n"
     ]
    }
   ],
   "source": [
    "# Selecting features for the first 10 wines\n",
    "first_10 = X.head(10)\n",
    "\n",
    "# Calculating predicted quality for each of the first 10 wines\n",
    "predicted_quality = []\n",
    "for i in range(len(first_10)):\n",
    "    prediction = intercept\n",
    "    for j in range(len(coefficients)):\n",
    "        prediction += coefficients[j] * first_10.iloc[i, j]\n",
    "    predicted_quality.append(prediction)\n",
    "\n",
    "# Printing predicted quality and real quality for the first 10 wines\n",
    "for i in range(len(predicted_quality)):\n",
    "    print(\"Wine\", i+1, \": Predicted vs Real Quality: {:.2f}/{:.2f}\\n\".format(predicted_quality[i], y.head(i+1).values[-1]))"
   ]
  },
  {
   "cell_type": "markdown",
   "id": "3a741074",
   "metadata": {},
   "source": [
    "### Top 5 Variables"
   ]
  },
  {
   "cell_type": "code",
   "execution_count": 6,
   "id": "d964200e",
   "metadata": {},
   "outputs": [
    {
     "name": "stdout",
     "output_type": "stream",
     "text": [
      "\n",
      "Top 5 most useful variables for estimating wine quality:\n",
      "           Variable  Coefficient\n",
      "7           density    10.351594\n",
      "4         chlorides     1.806503\n",
      "1  volatile acidity     1.001304\n",
      "9         sulphates     0.841172\n",
      "8                pH     0.393688\n"
     ]
    }
   ],
   "source": [
    "# Get absolute coefficients and corresponding variable names and combine them\n",
    "coefficients_abs = abs(coefficients)\n",
    "variable_names = X.columns\n",
    "coefficients_df = pd.DataFrame({'Variable': variable_names, 'Coefficient': coefficients_abs})\n",
    "\n",
    "# Sort by coefficient magnitude in descending order\n",
    "coefficients_df = coefficients_df.sort_values(by='Coefficient', ascending=False)\n",
    "\n",
    "# Get the top 5 most useful variables\n",
    "top_5_variables = coefficients_df.head(5)\n",
    "print(\"\\nTop 5 most useful variables for estimating wine quality:\")\n",
    "print(top_5_variables)"
   ]
  },
  {
   "cell_type": "markdown",
   "id": "f37090e3",
   "metadata": {},
   "source": [
    "### Evaluation"
   ]
  },
  {
   "cell_type": "code",
   "execution_count": 7,
   "id": "cfd945b1",
   "metadata": {},
   "outputs": [
    {
     "name": "stdout",
     "output_type": "stream",
     "text": [
      "Mean squared error for the model is 0.39\n"
     ]
    }
   ],
   "source": [
    "# Make predictions on the testing set\n",
    "y_pred = model.predict(X_test)\n",
    "\n",
    "# Calculate the mean squared error\n",
    "mse = mean_squared_error(y_test, y_pred)\n",
    "print(\"Mean squared error for the model is {:.2f}\".format(mse))"
   ]
  }
 ],
 "metadata": {
  "kernelspec": {
   "display_name": "Python 3 (ipykernel)",
   "language": "python",
   "name": "python3"
  },
  "language_info": {
   "codemirror_mode": {
    "name": "ipython",
    "version": 3
   },
   "file_extension": ".py",
   "mimetype": "text/x-python",
   "name": "python",
   "nbconvert_exporter": "python",
   "pygments_lexer": "ipython3",
   "version": "3.11.5"
  }
 },
 "nbformat": 4,
 "nbformat_minor": 5
}
